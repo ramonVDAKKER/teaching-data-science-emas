{
  "cells": [
    {
      "cell_type": "markdown",
      "metadata": {
        "id": "view-in-github",
        "colab_type": "text"
      },
      "source": [
        "<a href=\"https://colab.research.google.com/github/ramonVDAKKER/teaching-data-science-emas/blob/main/EMAS_intro_nn_hello_world.ipynb\" target=\"_parent\"><img src=\"https://colab.research.google.com/assets/colab-badge.svg\" alt=\"Open In Colab\"/></a>"
      ]
    },
    {
      "cell_type": "markdown",
      "metadata": {
        "id": "bL5nQxZnyJ3A"
      },
      "source": [
        "## 0. Setup\n",
        "\n",
        "This demo will use Keras 3 with JAX (https://github.com/google/jax) as backend."
      ]
    },
    {
      "cell_type": "code",
      "execution_count": null,
      "metadata": {
        "id": "cXL7ml-VyJ3B"
      },
      "outputs": [],
      "source": [
        "!pip install keras==3.0.0 --upgrade --quiet"
      ]
    },
    {
      "cell_type": "code",
      "execution_count": null,
      "metadata": {
        "id": "XoEjwzLByJ3B"
      },
      "outputs": [],
      "source": [
        "import numpy as np\n",
        "import os\n",
        "\n",
        "os.environ[\"KERAS_BACKEND\"] = \"jax\"\n",
        "\n",
        "# Keras should only be imported after jax has been configured.\n",
        "import keras\n",
        "import matplotlib.pyplot as plt"
      ]
    },
    {
      "cell_type": "markdown",
      "metadata": {
        "id": "Vgee6rjhyJ3C"
      },
      "source": [
        "## 1. MNIST\n",
        "\n",
        "Let's consider the `Hello World' of computervision: training a convnet to classify MNIST digits."
      ]
    },
    {
      "cell_type": "markdown",
      "source": [
        "### 1.1 MNIST data"
      ],
      "metadata": {
        "id": "MP0SRdsk1DdU"
      }
    },
    {
      "cell_type": "markdown",
      "source": [
        "See https://en.wikipedia.org/wiki/MNIST_database for background on the MNIST dataset.\n",
        "\n",
        "It is a large database of handwritten digits that is commonly used for training various image processing systems. It consists of greyscale images in a 28x28 pixel format."
      ],
      "metadata": {
        "id": "guN68Hxj1G2s"
      }
    },
    {
      "cell_type": "code",
      "execution_count": null,
      "metadata": {
        "id": "-A9OUvokyJ3C"
      },
      "outputs": [],
      "source": [
        "# Load the data and split it between train and test sets\n",
        "(x_train, y_train), (x_test, y_test) = keras.datasets.mnist.load_data()"
      ]
    },
    {
      "cell_type": "code",
      "source": [
        "print(f\"{x_train.shape=}\")\n",
        "print(f\"{y_train.shape=}\")"
      ],
      "metadata": {
        "id": "cIXmR9Qd1rDd"
      },
      "execution_count": null,
      "outputs": []
    },
    {
      "cell_type": "markdown",
      "source": [
        "The train set thus consists of 60,000 images. The data of an image is nothing but a 28x28 matrix representing the pixels of the image. The value of an entry of the matrix measures the greyscale. 0 means black, 255 means white. In between, every other number — 50, 87, 162, 209, and so on — is a shade of gray ranging from black to white.\n",
        "\n",
        "![image.png](data:image/png;base64,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)\n",
        "\n",
        "Let us inspect the data of the first image in the train set:\n"
      ],
      "metadata": {
        "id": "haFf7gVQ3QOd"
      }
    },
    {
      "cell_type": "code",
      "source": [
        "print(x_train[0, :, :])"
      ],
      "metadata": {
        "id": "uk0c4nZw3Pdb"
      },
      "execution_count": null,
      "outputs": []
    },
    {
      "cell_type": "markdown",
      "source": [
        "Next, let us inspect a few images and their labels."
      ],
      "metadata": {
        "id": "VY6r2fpe2lze"
      }
    },
    {
      "cell_type": "code",
      "source": [
        "for j in range(0, 6):\n",
        "    plt.imshow(x_train[j, :, :], cmap=\"gray\")\n",
        "    plt.show()\n",
        "    print(f\"The label is {y_train[j]}\")"
      ],
      "metadata": {
        "id": "FTkbK1sI2Kx6"
      },
      "execution_count": null,
      "outputs": []
    },
    {
      "cell_type": "markdown",
      "source": [
        "Next we scale the data as preprocessing step before we can turn to the modelling."
      ],
      "metadata": {
        "id": "_8Rx-VEj3LDA"
      }
    },
    {
      "cell_type": "code",
      "source": [
        "# Scale images to the [0, 1] range\n",
        "x_train = x_train.astype(\"float32\") / 255\n",
        "x_test = x_test.astype(\"float32\") / 255\n",
        "# Make sure images have shape (28, 28, 1)\n",
        "x_train = np.expand_dims(x_train, -1)\n",
        "x_test = np.expand_dims(x_test, -1)\n",
        "print(\"x_train shape:\", x_train.shape)\n",
        "print(\"y_train shape:\", y_train.shape)\n",
        "print(x_train.shape[0], \"train samples\")\n",
        "print(x_test.shape[0], \"test samples\")"
      ],
      "metadata": {
        "id": "YCdMaCjI1pGN"
      },
      "execution_count": null,
      "outputs": []
    },
    {
      "cell_type": "markdown",
      "metadata": {
        "id": "Yg5rha4JyJ3C"
      },
      "source": [
        "Here's a basic ConvNet model.\n",
        "\n",
        "If you want to learn more about the building blocks; see, for example, https://pyimagesearch.com/2018/12/31/keras-conv2d-and-convolutional-layers/"
      ]
    },
    {
      "cell_type": "code",
      "execution_count": null,
      "metadata": {
        "id": "9Cd-_5O7yJ3C"
      },
      "outputs": [],
      "source": [
        "# Model parameters\n",
        "num_classes = 10\n",
        "input_shape = (28, 28, 1)\n",
        "\n",
        "model = keras.Sequential(\n",
        "    [\n",
        "        keras.layers.Input(shape=input_shape),\n",
        "        keras.layers.Conv2D(64, kernel_size=(3, 3), activation=\"relu\"),\n",
        "        keras.layers.Conv2D(64, kernel_size=(3, 3), activation=\"relu\"),\n",
        "        keras.layers.MaxPooling2D(pool_size=(2, 2)),\n",
        "        keras.layers.Conv2D(128, kernel_size=(3, 3), activation=\"relu\"),\n",
        "        keras.layers.Conv2D(128, kernel_size=(3, 3), activation=\"relu\"),\n",
        "        keras.layers.GlobalAveragePooling2D(),\n",
        "        keras.layers.Dropout(0.5),\n",
        "        keras.layers.Dense(num_classes, activation=\"softmax\"),\n",
        "    ]\n",
        ")"
      ]
    },
    {
      "cell_type": "markdown",
      "metadata": {
        "id": "MkCx24V1yJ3C"
      },
      "source": [
        "Here's our model summary:"
      ]
    },
    {
      "cell_type": "code",
      "execution_count": null,
      "metadata": {
        "id": "GTBRsPOHyJ3C"
      },
      "outputs": [],
      "source": [
        "model.summary()"
      ]
    },
    {
      "cell_type": "markdown",
      "metadata": {
        "id": "OQLG0XR6yJ3C"
      },
      "source": [
        "We use the `compile()` method to specify the optimizer, loss function,\n",
        "and the metrics to monitor."
      ]
    },
    {
      "cell_type": "code",
      "execution_count": null,
      "metadata": {
        "id": "6tSFna4OyJ3C"
      },
      "outputs": [],
      "source": [
        "model.compile(\n",
        "    loss=keras.losses.SparseCategoricalCrossentropy(),\n",
        "    optimizer=keras.optimizers.Adam(learning_rate=1e-3),\n",
        "    metrics=[\n",
        "        keras.metrics.SparseCategoricalAccuracy(name=\"acc\"),\n",
        "    ],\n",
        ")"
      ]
    },
    {
      "cell_type": "markdown",
      "metadata": {
        "id": "fWVEgsruyJ3D"
      },
      "source": [
        "Let's train and evaluate the model. We'll set aside a validation split of 20%\n",
        "of the data during training to monitor generalization on unseen data."
      ]
    },
    {
      "cell_type": "code",
      "execution_count": null,
      "metadata": {
        "id": "pP7Kt6NDyJ3D"
      },
      "outputs": [],
      "source": [
        "batch_size = 128\n",
        "epochs = 30\n",
        "\n",
        "callbacks = [\n",
        "    keras.callbacks.EarlyStopping(monitor=\"val_loss\", patience=2),\n",
        "]\n",
        "\n",
        "model.fit(\n",
        "    x_train,\n",
        "    y_train,\n",
        "    batch_size=batch_size,\n",
        "    epochs=epochs,\n",
        "    validation_split=0.2,\n",
        "    callbacks=callbacks,\n",
        ")\n",
        "score = model.evaluate(x_test, y_test, verbose=0)"
      ]
    },
    {
      "cell_type": "markdown",
      "source": [
        "Please note:"
      ],
      "metadata": {
        "id": "iQ5WnPHp7AKJ"
      }
    },
    {
      "cell_type": "code",
      "source": [
        "print(60_000 * (1 - 0.2))\n",
        "print(128 * 375)"
      ],
      "metadata": {
        "id": "jeHiRmct6ycm"
      },
      "execution_count": null,
      "outputs": []
    },
    {
      "cell_type": "markdown",
      "metadata": {
        "id": "p82r-d-CyJ3D"
      },
      "source": [
        "Next, you can query predictions of class probabilities with `predict()`:"
      ]
    },
    {
      "cell_type": "code",
      "execution_count": null,
      "metadata": {
        "id": "w9hOMn_zyJ3D"
      },
      "outputs": [],
      "source": [
        "predictions = model.predict(x_test)"
      ]
    },
    {
      "cell_type": "code",
      "source": [
        "print(predictions.shape)"
      ],
      "metadata": {
        "id": "f5qvYXqt8DhH"
      },
      "execution_count": null,
      "outputs": []
    },
    {
      "cell_type": "code",
      "source": [
        "print(predictions[0, :])"
      ],
      "metadata": {
        "id": "1wMfJsp78FyO"
      },
      "execution_count": null,
      "outputs": []
    },
    {
      "cell_type": "markdown",
      "source": [
        "The rows of the predictions array correspond to the predicted probability of each class. If we build a classifier by taking the class with the largest predicted probability we obtain:"
      ],
      "metadata": {
        "id": "IuWzMSq47wzo"
      }
    },
    {
      "cell_type": "code",
      "source": [
        "predicted_class = predictions.argmax(axis=1)\n",
        "print(predicted_class.shape)"
      ],
      "metadata": {
        "id": "zHfEkbDp7hJE"
      },
      "execution_count": null,
      "outputs": []
    },
    {
      "cell_type": "markdown",
      "metadata": {
        "id": "53Vf2Aq9yJ3D"
      },
      "source": [
        "Some examples from the test set:"
      ]
    },
    {
      "cell_type": "code",
      "source": [
        "for j in range(0, 6):\n",
        "    plt.imshow(x_test[j, :, :], cmap=\"gray\")\n",
        "    plt.show()\n",
        "    print(f\"The true label is {y_test[j]}\")\n",
        "    print(f\"The predicted label is {predicted_class[j]}\")"
      ],
      "metadata": {
        "id": "ZQRGRbKu8hQS"
      },
      "execution_count": null,
      "outputs": []
    },
    {
      "cell_type": "markdown",
      "source": [
        "Let us evaluate the performance on the test set:"
      ],
      "metadata": {
        "id": "LhlDFI1L9mha"
      }
    },
    {
      "cell_type": "code",
      "source": [
        "from sklearn.metrics import accuracy_score, confusion_matrix, classification_report\n",
        "\n",
        "print(f\"Accuracy on test set: {accuracy_score(y_test, predicted_class)}\")\n",
        "print(\"\\nConfusion Matrix:\")\n",
        "print(confusion_matrix(y_test, predicted_class))\n",
        "print(\"\\nClassification Report:\")\n",
        "print(classification_report(y_test, predicted_class, target_names=[str(j) for j in range(0, 10)]))"
      ],
      "metadata": {
        "id": "PBVMsO2K9muf"
      },
      "execution_count": null,
      "outputs": []
    }
  ],
  "metadata": {
    "accelerator": "GPU",
    "colab": {
      "provenance": [],
      "include_colab_link": true
    },
    "kernelspec": {
      "display_name": "Python 3",
      "language": "python",
      "name": "python3"
    },
    "language_info": {
      "codemirror_mode": {
        "name": "ipython",
        "version": 3
      },
      "file_extension": ".py",
      "mimetype": "text/x-python",
      "name": "python",
      "nbconvert_exporter": "python",
      "pygments_lexer": "ipython3",
      "version": "3.7.0"
    }
  },
  "nbformat": 4,
  "nbformat_minor": 0
}