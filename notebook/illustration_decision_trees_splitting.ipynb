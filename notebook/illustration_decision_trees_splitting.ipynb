{
  "nbformat": 4,
  "nbformat_minor": 0,
  "metadata": {
    "colab": {
      "provenance": [],
      "collapsed_sections": [],
      "authorship_tag": "ABX9TyNpzznPVLDgc6JzcWRQh5hY",
      "include_colab_link": true
    },
    "kernelspec": {
      "name": "python3",
      "display_name": "Python 3"
    },
    "language_info": {
      "name": "python"
    }
  },
  "cells": [
    {
      "cell_type": "markdown",
      "metadata": {
        "id": "view-in-github",
        "colab_type": "text"
      },
      "source": [
        "<a href=\"https://colab.research.google.com/github/ramonVDAKKER/teaching-data-science-emas/blob/develop/notebook/illustration_decision_trees_splitting.ipynb\" target=\"_parent\"><img src=\"https://colab.research.google.com/assets/colab-badge.svg\" alt=\"Open In Colab\"/></a>"
      ]
    },
    {
      "cell_type": "markdown",
      "metadata": {
        "id": "8khFW1eoeAFH"
      },
      "source": [
        "# The basics of decision trees\n",
        "\n",
        "This notebook contains snippets to facilitate a demo and discussion during a lecture. We focus on the technique and not on understanding the empirical application associated to the dataset we use."
      ]
    },
    {
      "cell_type": "markdown",
      "metadata": {
        "id": "SrVdEnVveDjn"
      },
      "source": [
        "## 0. Import packages"
      ]
    },
    {
      "cell_type": "code",
      "metadata": {
        "id": "2CJCn2cadNeF"
      },
      "source": [
        "import pandas as pd\n",
        "import numpy as np\n",
        "from sklearn import tree\n",
        "from sklearn.ensemble import RandomForestClassifier\n",
        "from sklearn.metrics import plot_confusion_matrix, accuracy_score\n",
        "from sklearn.model_selection import train_test_split\n",
        "from sklearn.inspection import plot_partial_dependence\n",
        "from sklearn.datasets import load_breast_cancer\n",
        "import matplotlib.pyplot as plt\n",
        "import seaborn as sns\n",
        "import keras\n",
        "from keras.layers import Dense\n",
        "from keras.models import Sequential"
      ],
      "execution_count": null,
      "outputs": []
    },
    {
      "cell_type": "code",
      "metadata": {
        "id": "2RV02kMLhRne"
      },
      "source": [
        "%%capture\n",
        "import sys\n",
        "!{sys.executable} -m pip install -U pandas-profiling[notebook]\n",
        "!jupyter nbextension enable --py widgetsnbextension\n",
        "import pandas_profiling"
      ],
      "execution_count": null,
      "outputs": []
    },
    {
      "cell_type": "code",
      "source": [
        "%matplotlib inline"
      ],
      "metadata": {
        "id": "8WjnvOJJr33L"
      },
      "execution_count": null,
      "outputs": []
    },
    {
      "cell_type": "markdown",
      "metadata": {
        "id": "LlbhxSw0ealm"
      },
      "source": [
        "## 1. Load dataset"
      ]
    },
    {
      "cell_type": "code",
      "metadata": {
        "id": "A_4q5HhSd7oX"
      },
      "source": [
        "data = load_breast_cancer()\n",
        "y_df = pd.DataFrame(data.target, columns=[\"target\"])\n",
        "X_df = pd.DataFrame(data.data, columns=data.feature_names)\n",
        "X_train_df, X_test_df, y_train_df, y_test_df = train_test_split(X_df, y_df, test_size=0.3, random_state=123)\n",
        "data_train_df = pd.concat([y_train_df, X_train_df], axis=1)"
      ],
      "execution_count": null,
      "outputs": []
    },
    {
      "cell_type": "code",
      "metadata": {
        "id": "PjZ8dXCAd7uL"
      },
      "source": [
        "print(f\"The dataset, available for training, has {len(data_train_df)} rows and {data_train_df.shape[1]} columns.\")\n",
        "print(\"Some rows of the dataset:\")\n",
        "display(data_train_df.head(5))"
      ],
      "execution_count": null,
      "outputs": []
    },
    {
      "cell_type": "markdown",
      "metadata": {
        "id": "JsEMo2g-o5pT"
      },
      "source": [
        "## 2. Splitting mechanism illustrated"
      ]
    },
    {
      "cell_type": "code",
      "metadata": {
        "id": "IOQyNULsp6z-"
      },
      "source": [
        "def gini_impurity(y_left, y_right):\n",
        "  p_L = np.mean(y_left.values)\n",
        "  gini_left = 2 * p_L * (1 - p_L)\n",
        "  p_R = np.mean(y_right.values)\n",
        "  gini_right = 2 * p_R * (1 - p_R)\n",
        "  n_right = len(y_right)\n",
        "  weight_right = n_right / (len(y_left) + n_right)\n",
        "  gini = weight_right * gini_right + (1 - weight_right) * gini_left\n",
        "  return gini, gini_left, gini_right\n",
        "def determine_gini_impurity_for_feature_and_split_ext(y, X_df, name_feature, threshold):\n",
        "  left = (X_df[name_feature] <= threshold)\n",
        "  y_left = y[left]\n",
        "  y_right = y[~ left]\n",
        "  return gini_impurity(y_left, y_right) \n",
        "def determine_gini_impurity_for_feature_and_split(y, X_df, name_feature, threshold):\n",
        "  gini, _, _ = determine_gini_impurity_for_feature_and_split_ext(y, X_df, name_feature, threshold)\n",
        "  return gini\n",
        "vector_determine_gini_impurity_for_feature_and_split = np.vectorize(determine_gini_impurity_for_feature_and_split, excluded=[\"y\", \"X_df\"])\n",
        "def analyze_feature(X_df, name_feature, y):\n",
        "  feature_values = X_df[name_feature].sort_values(ascending=True)[1:-1]\n",
        "  gini = vector_determine_gini_impurity_for_feature_and_split(y=y, X_df=X_df, name_feature=name_feature, threshold=feature_values)\n",
        "  plt.plot(feature_values, gini)\n",
        "  plt.ylabel(\"Gini\")\n",
        "  plt.xlabel(\"Splitvalue\")\n",
        "  plt.title(f\"Gini as function of possible split values for feature {name_feature}.\")\n",
        "  print(f\"Split value: {feature_values.iloc[gini.argmin()]}\")\n",
        "  print(f\"Gini: {gini.min()}\")"
      ],
      "execution_count": null,
      "outputs": []
    },
    {
      "cell_type": "markdown",
      "metadata": {
        "id": "EPHybiL0Dhjq"
      },
      "source": [
        "Let us analyze a feature and evaluate how we should split for this feature:"
      ]
    },
    {
      "cell_type": "code",
      "metadata": {
        "id": "kUwfRrytEA7S"
      },
      "source": [
        "name_feature = \"mean perimeter\"\n",
        "sns.histplot(data=data_train_df, x=name_feature, hue=\"target\", multiple=\"stack\")\n",
        "plt.show()"
      ],
      "execution_count": null,
      "outputs": []
    },
    {
      "cell_type": "markdown",
      "metadata": {
        "id": "PQ5r9N6fF-SM"
      },
      "source": [
        "The following graph shows how the Gini varies with the threshold:"
      ]
    },
    {
      "cell_type": "code",
      "metadata": {
        "id": "7j4a1yZMrUP3"
      },
      "source": [
        "analyze_feature(X_train_df, name_feature, y_train_df)"
      ],
      "execution_count": null,
      "outputs": []
    },
    {
      "cell_type": "code",
      "metadata": {
        "id": "S6bov-souq8f",
        "colab": {
          "base_uri": "https://localhost:8080/",
          "height": 990
        },
        "outputId": "8877a5cf-9194-439a-c0e3-85a9083178aa"
      },
      "source": [
        "def determine_best_split(y, X_df):\n",
        "  out_df = pd.DataFrame(columns=[\"Gini\", \"Split\"])\n",
        "  for name_feature in X_df.columns:\n",
        "    feature_values = X_df[name_feature].sort_values(ascending=True)[1:-1]\n",
        "    gini = vector_determine_gini_impurity_for_feature_and_split(y=y, X_df=X_df, name_feature=name_feature, threshold=feature_values)\n",
        "    out_df.loc[name_feature, \"Split\"] = feature_values.iloc[gini.argmin()]\n",
        "    out_df.loc[name_feature, \"Gini\"] = gini.min()\n",
        "  return out_df\n",
        "display(determine_best_split(y_train_df, X_train_df).sort_values(by=\"Gini\"))"
      ],
      "execution_count": 9,
      "outputs": [
        {
          "output_type": "display_data",
          "data": {
            "text/plain": [
              "                             Gini     Split\n",
              "worst radius             0.134778     16.77\n",
              "worst area               0.138278     873.2\n",
              "worst perimeter          0.143404     113.1\n",
              "mean concave points      0.163761   0.04908\n",
              "worst concave points     0.168242    0.1452\n",
              "mean area                0.175888     693.7\n",
              "mean perimeter           0.183713     98.22\n",
              "mean radius               0.18409      15.0\n",
              "area error               0.222897     39.93\n",
              "mean concavity           0.227072     0.103\n",
              "worst concavity            0.2456    0.2604\n",
              "perimeter error          0.287539     2.806\n",
              "radius error             0.289798    0.4505\n",
              "mean compactness         0.309713    0.1021\n",
              "worst compactness        0.326551     0.255\n",
              "mean texture             0.356447     18.49\n",
              "worst texture            0.360991     23.84\n",
              "concavity error          0.362467   0.02117\n",
              "concave points error     0.367446   0.01196\n",
              "compactness error        0.397615   0.02417\n",
              "worst symmetry           0.399083    0.3174\n",
              "worst smoothness          0.40213    0.1432\n",
              "mean smoothness          0.415342   0.08992\n",
              "mean symmetry            0.416928    0.2057\n",
              "worst fractal dimension  0.420907   0.09261\n",
              "mean fractal dimension    0.43624   0.05649\n",
              "fractal dimension error  0.442786  0.003114\n",
              "symmetry error           0.445097   0.04243\n",
              "smoothness error         0.453219   0.01236\n",
              "texture error             0.45389    0.5477"
            ],
            "text/html": [
              "\n",
              "  <div id=\"df-bba629b1-ae7f-4775-9fba-ae0f4048470c\">\n",
              "    <div class=\"colab-df-container\">\n",
              "      <div>\n",
              "<style scoped>\n",
              "    .dataframe tbody tr th:only-of-type {\n",
              "        vertical-align: middle;\n",
              "    }\n",
              "\n",
              "    .dataframe tbody tr th {\n",
              "        vertical-align: top;\n",
              "    }\n",
              "\n",
              "    .dataframe thead th {\n",
              "        text-align: right;\n",
              "    }\n",
              "</style>\n",
              "<table border=\"1\" class=\"dataframe\">\n",
              "  <thead>\n",
              "    <tr style=\"text-align: right;\">\n",
              "      <th></th>\n",
              "      <th>Gini</th>\n",
              "      <th>Split</th>\n",
              "    </tr>\n",
              "  </thead>\n",
              "  <tbody>\n",
              "    <tr>\n",
              "      <th>worst radius</th>\n",
              "      <td>0.134778</td>\n",
              "      <td>16.77</td>\n",
              "    </tr>\n",
              "    <tr>\n",
              "      <th>worst area</th>\n",
              "      <td>0.138278</td>\n",
              "      <td>873.2</td>\n",
              "    </tr>\n",
              "    <tr>\n",
              "      <th>worst perimeter</th>\n",
              "      <td>0.143404</td>\n",
              "      <td>113.1</td>\n",
              "    </tr>\n",
              "    <tr>\n",
              "      <th>mean concave points</th>\n",
              "      <td>0.163761</td>\n",
              "      <td>0.04908</td>\n",
              "    </tr>\n",
              "    <tr>\n",
              "      <th>worst concave points</th>\n",
              "      <td>0.168242</td>\n",
              "      <td>0.1452</td>\n",
              "    </tr>\n",
              "    <tr>\n",
              "      <th>mean area</th>\n",
              "      <td>0.175888</td>\n",
              "      <td>693.7</td>\n",
              "    </tr>\n",
              "    <tr>\n",
              "      <th>mean perimeter</th>\n",
              "      <td>0.183713</td>\n",
              "      <td>98.22</td>\n",
              "    </tr>\n",
              "    <tr>\n",
              "      <th>mean radius</th>\n",
              "      <td>0.18409</td>\n",
              "      <td>15.0</td>\n",
              "    </tr>\n",
              "    <tr>\n",
              "      <th>area error</th>\n",
              "      <td>0.222897</td>\n",
              "      <td>39.93</td>\n",
              "    </tr>\n",
              "    <tr>\n",
              "      <th>mean concavity</th>\n",
              "      <td>0.227072</td>\n",
              "      <td>0.103</td>\n",
              "    </tr>\n",
              "    <tr>\n",
              "      <th>worst concavity</th>\n",
              "      <td>0.2456</td>\n",
              "      <td>0.2604</td>\n",
              "    </tr>\n",
              "    <tr>\n",
              "      <th>perimeter error</th>\n",
              "      <td>0.287539</td>\n",
              "      <td>2.806</td>\n",
              "    </tr>\n",
              "    <tr>\n",
              "      <th>radius error</th>\n",
              "      <td>0.289798</td>\n",
              "      <td>0.4505</td>\n",
              "    </tr>\n",
              "    <tr>\n",
              "      <th>mean compactness</th>\n",
              "      <td>0.309713</td>\n",
              "      <td>0.1021</td>\n",
              "    </tr>\n",
              "    <tr>\n",
              "      <th>worst compactness</th>\n",
              "      <td>0.326551</td>\n",
              "      <td>0.255</td>\n",
              "    </tr>\n",
              "    <tr>\n",
              "      <th>mean texture</th>\n",
              "      <td>0.356447</td>\n",
              "      <td>18.49</td>\n",
              "    </tr>\n",
              "    <tr>\n",
              "      <th>worst texture</th>\n",
              "      <td>0.360991</td>\n",
              "      <td>23.84</td>\n",
              "    </tr>\n",
              "    <tr>\n",
              "      <th>concavity error</th>\n",
              "      <td>0.362467</td>\n",
              "      <td>0.02117</td>\n",
              "    </tr>\n",
              "    <tr>\n",
              "      <th>concave points error</th>\n",
              "      <td>0.367446</td>\n",
              "      <td>0.01196</td>\n",
              "    </tr>\n",
              "    <tr>\n",
              "      <th>compactness error</th>\n",
              "      <td>0.397615</td>\n",
              "      <td>0.02417</td>\n",
              "    </tr>\n",
              "    <tr>\n",
              "      <th>worst symmetry</th>\n",
              "      <td>0.399083</td>\n",
              "      <td>0.3174</td>\n",
              "    </tr>\n",
              "    <tr>\n",
              "      <th>worst smoothness</th>\n",
              "      <td>0.40213</td>\n",
              "      <td>0.1432</td>\n",
              "    </tr>\n",
              "    <tr>\n",
              "      <th>mean smoothness</th>\n",
              "      <td>0.415342</td>\n",
              "      <td>0.08992</td>\n",
              "    </tr>\n",
              "    <tr>\n",
              "      <th>mean symmetry</th>\n",
              "      <td>0.416928</td>\n",
              "      <td>0.2057</td>\n",
              "    </tr>\n",
              "    <tr>\n",
              "      <th>worst fractal dimension</th>\n",
              "      <td>0.420907</td>\n",
              "      <td>0.09261</td>\n",
              "    </tr>\n",
              "    <tr>\n",
              "      <th>mean fractal dimension</th>\n",
              "      <td>0.43624</td>\n",
              "      <td>0.05649</td>\n",
              "    </tr>\n",
              "    <tr>\n",
              "      <th>fractal dimension error</th>\n",
              "      <td>0.442786</td>\n",
              "      <td>0.003114</td>\n",
              "    </tr>\n",
              "    <tr>\n",
              "      <th>symmetry error</th>\n",
              "      <td>0.445097</td>\n",
              "      <td>0.04243</td>\n",
              "    </tr>\n",
              "    <tr>\n",
              "      <th>smoothness error</th>\n",
              "      <td>0.453219</td>\n",
              "      <td>0.01236</td>\n",
              "    </tr>\n",
              "    <tr>\n",
              "      <th>texture error</th>\n",
              "      <td>0.45389</td>\n",
              "      <td>0.5477</td>\n",
              "    </tr>\n",
              "  </tbody>\n",
              "</table>\n",
              "</div>\n",
              "      <button class=\"colab-df-convert\" onclick=\"convertToInteractive('df-bba629b1-ae7f-4775-9fba-ae0f4048470c')\"\n",
              "              title=\"Convert this dataframe to an interactive table.\"\n",
              "              style=\"display:none;\">\n",
              "        \n",
              "  <svg xmlns=\"http://www.w3.org/2000/svg\" height=\"24px\"viewBox=\"0 0 24 24\"\n",
              "       width=\"24px\">\n",
              "    <path d=\"M0 0h24v24H0V0z\" fill=\"none\"/>\n",
              "    <path d=\"M18.56 5.44l.94 2.06.94-2.06 2.06-.94-2.06-.94-.94-2.06-.94 2.06-2.06.94zm-11 1L8.5 8.5l.94-2.06 2.06-.94-2.06-.94L8.5 2.5l-.94 2.06-2.06.94zm10 10l.94 2.06.94-2.06 2.06-.94-2.06-.94-.94-2.06-.94 2.06-2.06.94z\"/><path d=\"M17.41 7.96l-1.37-1.37c-.4-.4-.92-.59-1.43-.59-.52 0-1.04.2-1.43.59L10.3 9.45l-7.72 7.72c-.78.78-.78 2.05 0 2.83L4 21.41c.39.39.9.59 1.41.59.51 0 1.02-.2 1.41-.59l7.78-7.78 2.81-2.81c.8-.78.8-2.07 0-2.86zM5.41 20L4 18.59l7.72-7.72 1.47 1.35L5.41 20z\"/>\n",
              "  </svg>\n",
              "      </button>\n",
              "      \n",
              "  <style>\n",
              "    .colab-df-container {\n",
              "      display:flex;\n",
              "      flex-wrap:wrap;\n",
              "      gap: 12px;\n",
              "    }\n",
              "\n",
              "    .colab-df-convert {\n",
              "      background-color: #E8F0FE;\n",
              "      border: none;\n",
              "      border-radius: 50%;\n",
              "      cursor: pointer;\n",
              "      display: none;\n",
              "      fill: #1967D2;\n",
              "      height: 32px;\n",
              "      padding: 0 0 0 0;\n",
              "      width: 32px;\n",
              "    }\n",
              "\n",
              "    .colab-df-convert:hover {\n",
              "      background-color: #E2EBFA;\n",
              "      box-shadow: 0px 1px 2px rgba(60, 64, 67, 0.3), 0px 1px 3px 1px rgba(60, 64, 67, 0.15);\n",
              "      fill: #174EA6;\n",
              "    }\n",
              "\n",
              "    [theme=dark] .colab-df-convert {\n",
              "      background-color: #3B4455;\n",
              "      fill: #D2E3FC;\n",
              "    }\n",
              "\n",
              "    [theme=dark] .colab-df-convert:hover {\n",
              "      background-color: #434B5C;\n",
              "      box-shadow: 0px 1px 3px 1px rgba(0, 0, 0, 0.15);\n",
              "      filter: drop-shadow(0px 1px 2px rgba(0, 0, 0, 0.3));\n",
              "      fill: #FFFFFF;\n",
              "    }\n",
              "  </style>\n",
              "\n",
              "      <script>\n",
              "        const buttonEl =\n",
              "          document.querySelector('#df-bba629b1-ae7f-4775-9fba-ae0f4048470c button.colab-df-convert');\n",
              "        buttonEl.style.display =\n",
              "          google.colab.kernel.accessAllowed ? 'block' : 'none';\n",
              "\n",
              "        async function convertToInteractive(key) {\n",
              "          const element = document.querySelector('#df-bba629b1-ae7f-4775-9fba-ae0f4048470c');\n",
              "          const dataTable =\n",
              "            await google.colab.kernel.invokeFunction('convertToInteractive',\n",
              "                                                     [key], {});\n",
              "          if (!dataTable) return;\n",
              "\n",
              "          const docLinkHtml = 'Like what you see? Visit the ' +\n",
              "            '<a target=\"_blank\" href=https://colab.research.google.com/notebooks/data_table.ipynb>data table notebook</a>'\n",
              "            + ' to learn more about interactive tables.';\n",
              "          element.innerHTML = '';\n",
              "          dataTable['output_type'] = 'display_data';\n",
              "          await google.colab.output.renderOutput(dataTable, element);\n",
              "          const docLink = document.createElement('div');\n",
              "          docLink.innerHTML = docLinkHtml;\n",
              "          element.appendChild(docLink);\n",
              "        }\n",
              "      </script>\n",
              "    </div>\n",
              "  </div>\n",
              "  "
            ]
          },
          "metadata": {}
        }
      ]
    },
    {
      "cell_type": "markdown",
      "metadata": {
        "id": "Ov0s0LUzzj-t"
      },
      "source": [
        "## 4. Train decision tree using Scikit"
      ]
    },
    {
      "cell_type": "markdown",
      "metadata": {
        "id": "QlwQk0JIG7ck"
      },
      "source": [
        "Let us check that Scikit finds the same answer for the first split. To this end we train a decision tree with 1 as maximum depth."
      ]
    },
    {
      "cell_type": "code",
      "metadata": {
        "id": "V38OrS5wxcFp",
        "colab": {
          "base_uri": "https://localhost:8080/",
          "height": 302
        },
        "outputId": "b899732e-240a-4169-9e85-f42fe174c03c"
      },
      "source": [
        "dtree = tree.DecisionTreeClassifier(max_depth=1)\n",
        "dtree = dtree.fit(X_train_df, y_train_df)\n",
        "tree.plot_tree(dtree) "
      ],
      "execution_count": 10,
      "outputs": [
        {
          "output_type": "execute_result",
          "data": {
            "text/plain": [
              "[Text(0.5, 0.75, 'X[20] <= 16.795\\ngini = 0.462\\nsamples = 398\\nvalue = [144, 254]'),\n",
              " Text(0.25, 0.25, 'gini = 0.15\\nsamples = 269\\nvalue = [22, 247]'),\n",
              " Text(0.75, 0.25, 'gini = 0.103\\nsamples = 129\\nvalue = [122, 7]')]"
            ]
          },
          "metadata": {},
          "execution_count": 10
        },
        {
          "output_type": "display_data",
          "data": {
            "text/plain": [
              "<Figure size 432x288 with 1 Axes>"
            ],
            "image/png": "[encoded data removed]"
          },
          "metadata": {
            "needs_background": "light"
          }
        }
      ]
    },
    {
      "cell_type": "code",
      "metadata": {
        "id": "U9Wj_Np93GIm",
        "colab": {
          "base_uri": "https://localhost:8080/",
          "height": 297
        },
        "outputId": "a5306b1f-518b-4d43-8231-c3c2a8f996ad"
      },
      "source": [
        "name_feature = X_train_df.columns[20]\n",
        "sns.histplot(data=data_train_df, x=name_feature, hue=\"target\", multiple=\"stack\")"
      ],
      "execution_count": 11,
      "outputs": [
        {
          "output_type": "execute_result",
          "data": {
            "text/plain": [
              "<matplotlib.axes._subplots.AxesSubplot at 0x7f1013c1b090>"
            ]
          },
          "metadata": {},
          "execution_count": 11
        },
        {
          "output_type": "display_data",
          "data": {
            "text/plain": [
              "<Figure size 432x288 with 1 Axes>"
            ],
            "image/png": "[encoded data removed]"
          },
          "metadata": {
            "needs_background": "light"
          }
        }
      ]
    },
    {
      "cell_type": "markdown",
      "metadata": {
        "id": "8_5Sh5pUHdUz"
      },
      "source": [
        "Let us check if our ad hoc code yields the same Gini for both leaves:"
      ]
    },
    {
      "cell_type": "code",
      "metadata": {
        "id": "nvPb0bG99Jis",
        "colab": {
          "base_uri": "https://localhost:8080/"
        },
        "outputId": "58dd8b38-0bea-4b88-a22a-1fccfd0f03ee"
      },
      "source": [
        "print(f\"Gini before splitting:  {(2 * np.mean(y_train_df.values) * (1 - np.mean(y_train_df.values))):.03f}\")\n",
        "split_value = 16.795\n",
        "gini, gini_left, gini_right = determine_gini_impurity_for_feature_and_split_ext(y_train_df, X_train_df, name_feature, split_value)\n",
        "print(f\"Gini left: {gini_left:.03f}.\")\n",
        "print(f\"Gini right: {gini_right:.03f}.\")\n",
        "frac_left = np.mean(X_train_df[name_feature] <= split_value)\n",
        "print(f\"Gini after splitting: {frac_left * gini_left + (1 - frac_left) * gini_right:.03f}\")"
      ],
      "execution_count": 12,
      "outputs": [
        {
          "output_type": "stream",
          "name": "stdout",
          "text": [
            "Gini before splitting:  0.462\n",
            "Gini left: 0.150.\n",
            "Gini right: 0.103.\n",
            "Gini after splitting: 0.135\n"
          ]
        }
      ]
    },
    {
      "cell_type": "markdown",
      "metadata": {
        "id": "mHUzcgLvIZnM"
      },
      "source": [
        "Now we understand how the decision tree comes to its splits, we train a \"full\" tree."
      ]
    },
    {
      "cell_type": "code",
      "metadata": {
        "id": "c2FvsDSe_rwS",
        "colab": {
          "base_uri": "https://localhost:8080/",
          "height": 882
        },
        "outputId": "c27388f2-024a-4338-ad7a-70f72656f094"
      },
      "source": [
        "dtree = tree.DecisionTreeClassifier()\n",
        "dtree = dtree.fit(X_train_df, y_train_df)\n",
        "tree.plot_tree(dtree) "
      ],
      "execution_count": 13,
      "outputs": [
        {
          "output_type": "execute_result",
          "data": {
            "text/plain": [
              "[Text(0.5454545454545454, 0.9444444444444444, 'X[20] <= 16.795\\ngini = 0.462\\nsamples = 398\\nvalue = [144, 254]'),\n",
              " Text(0.2727272727272727, 0.8333333333333334, 'X[27] <= 0.136\\ngini = 0.15\\nsamples = 269\\nvalue = [22, 247]'),\n",
              " Text(0.09090909090909091, 0.7222222222222222, 'X[18] <= 0.009\\ngini = 0.033\\nsamples = 236\\nvalue = [4, 232]'),\n",
              " Text(0.045454545454545456, 0.6111111111111112, 'gini = 0.0\\nsamples = 1\\nvalue = [1, 0]'),\n",
              " Text(0.13636363636363635, 0.6111111111111112, 'X[21] <= 29.225\\ngini = 0.025\\nsamples = 235\\nvalue = [3, 232]'),\n",
              " Text(0.09090909090909091, 0.5, 'gini = 0.0\\nsamples = 199\\nvalue = [0, 199]'),\n",
              " Text(0.18181818181818182, 0.5, 'X[6] <= 0.116\\ngini = 0.153\\nsamples = 36\\nvalue = [3, 33]'),\n",
              " Text(0.13636363636363635, 0.3888888888888889, 'X[19] <= 0.001\\ngini = 0.108\\nsamples = 35\\nvalue = [2, 33]'),\n",
              " Text(0.09090909090909091, 0.2777777777777778, 'gini = 0.0\\nsamples = 1\\nvalue = [1, 0]'),\n",
              " Text(0.18181818181818182, 0.2777777777777778, 'X[12] <= 1.467\\ngini = 0.057\\nsamples = 34\\nvalue = [1, 33]'),\n",
              " Text(0.13636363636363635, 0.16666666666666666, 'X[12] <= 1.451\\ngini = 0.32\\nsamples = 5\\nvalue = [1, 4]'),\n",
              " Text(0.09090909090909091, 0.05555555555555555, 'gini = 0.0\\nsamples = 4\\nvalue = [0, 4]'),\n",
              " Text(0.18181818181818182, 0.05555555555555555, 'gini = 0.0\\nsamples = 1\\nvalue = [1, 0]'),\n",
              " Text(0.22727272727272727, 0.16666666666666666, 'gini = 0.0\\nsamples = 29\\nvalue = [0, 29]'),\n",
              " Text(0.22727272727272727, 0.3888888888888889, 'gini = 0.0\\nsamples = 1\\nvalue = [1, 0]'),\n",
              " Text(0.45454545454545453, 0.7222222222222222, 'X[21] <= 25.67\\ngini = 0.496\\nsamples = 33\\nvalue = [18, 15]'),\n",
              " Text(0.3181818181818182, 0.6111111111111112, 'X[23] <= 810.3\\ngini = 0.231\\nsamples = 15\\nvalue = [2, 13]'),\n",
              " Text(0.2727272727272727, 0.5, 'gini = 0.0\\nsamples = 12\\nvalue = [0, 12]'),\n",
              " Text(0.36363636363636365, 0.5, 'X[0] <= 14.19\\ngini = 0.444\\nsamples = 3\\nvalue = [2, 1]'),\n",
              " Text(0.3181818181818182, 0.3888888888888889, 'gini = 0.0\\nsamples = 2\\nvalue = [2, 0]'),\n",
              " Text(0.4090909090909091, 0.3888888888888889, 'gini = 0.0\\nsamples = 1\\nvalue = [0, 1]'),\n",
              " Text(0.5909090909090909, 0.6111111111111112, 'X[4] <= 0.091\\ngini = 0.198\\nsamples = 18\\nvalue = [16, 2]'),\n",
              " Text(0.5454545454545454, 0.5, 'X[11] <= 1.502\\ngini = 0.444\\nsamples = 3\\nvalue = [1, 2]'),\n",
              " Text(0.5, 0.3888888888888889, 'gini = 0.0\\nsamples = 2\\nvalue = [0, 2]'),\n",
              " Text(0.5909090909090909, 0.3888888888888889, 'gini = 0.0\\nsamples = 1\\nvalue = [1, 0]'),\n",
              " Text(0.6363636363636364, 0.5, 'gini = 0.0\\nsamples = 15\\nvalue = [15, 0]'),\n",
              " Text(0.8181818181818182, 0.8333333333333334, 'X[21] <= 20.45\\ngini = 0.103\\nsamples = 129\\nvalue = [122, 7]'),\n",
              " Text(0.7272727272727273, 0.7222222222222222, 'X[23] <= 1218.5\\ngini = 0.496\\nsamples = 11\\nvalue = [5, 6]'),\n",
              " Text(0.6818181818181818, 0.6111111111111112, 'gini = 0.0\\nsamples = 6\\nvalue = [0, 6]'),\n",
              " Text(0.7727272727272727, 0.6111111111111112, 'gini = 0.0\\nsamples = 5\\nvalue = [5, 0]'),\n",
              " Text(0.9090909090909091, 0.7222222222222222, 'X[26] <= 0.18\\ngini = 0.017\\nsamples = 118\\nvalue = [117, 1]'),\n",
              " Text(0.8636363636363636, 0.6111111111111112, 'X[25] <= 0.161\\ngini = 0.375\\nsamples = 4\\nvalue = [3, 1]'),\n",
              " Text(0.8181818181818182, 0.5, 'gini = 0.0\\nsamples = 3\\nvalue = [3, 0]'),\n",
              " Text(0.9090909090909091, 0.5, 'gini = 0.0\\nsamples = 1\\nvalue = [0, 1]'),\n",
              " Text(0.9545454545454546, 0.6111111111111112, 'gini = 0.0\\nsamples = 114\\nvalue = [114, 0]')]"
            ]
          },
          "metadata": {},
          "execution_count": 13
        },
        {
          "output_type": "display_data",
          "data": {
            "text/plain": [
              "<Figure size 432x288 with 1 Axes>"
            ],
            "image/png": "[encoded data removed]"
          },
          "metadata": {
            "needs_background": "light"
          }
        }
      ]
    },
    {
      "cell_type": "markdown",
      "metadata": {
        "id": "FZxS9YnjBWE-"
      },
      "source": [
        "Use the tree to predict $Y$ for an observation $X$:"
      ]
    },
    {
      "cell_type": "code",
      "metadata": {
        "id": "tkx5eJKKBmpH",
        "colab": {
          "base_uri": "https://localhost:8080/"
        },
        "outputId": "5350240e-4bfd-42a9-a448-7247679e87ec"
      },
      "source": [
        "x = X_train_df.loc[0]\n",
        "print(\"For\\n\\n\")\n",
        "print(x)\n",
        "print(f\"\\n\\nthe tree yields Y_hat={dtree.predict(x.values.reshape(1, -1))[0]}.\")\n",
        "print(f\"The true outcome is {y_train_df.loc[0][0]}.\")"
      ],
      "execution_count": 14,
      "outputs": [
        {
          "output_type": "stream",
          "name": "stdout",
          "text": [
            "For\n",
            "\n",
            "\n",
            "mean radius                  17.990000\n",
            "mean texture                 10.380000\n",
            "mean perimeter              122.800000\n",
            "mean area                  1001.000000\n",
            "mean smoothness               0.118400\n",
            "mean compactness              0.277600\n",
            "mean concavity                0.300100\n",
            "mean concave points           0.147100\n",
            "mean symmetry                 0.241900\n",
            "mean fractal dimension        0.078710\n",
            "radius error                  1.095000\n",
            "texture error                 0.905300\n",
            "perimeter error               8.589000\n",
            "area error                  153.400000\n",
            "smoothness error              0.006399\n",
            "compactness error             0.049040\n",
            "concavity error               0.053730\n",
            "concave points error          0.015870\n",
            "symmetry error                0.030030\n",
            "fractal dimension error       0.006193\n",
            "worst radius                 25.380000\n",
            "worst texture                17.330000\n",
            "worst perimeter             184.600000\n",
            "worst area                 2019.000000\n",
            "worst smoothness              0.162200\n",
            "worst compactness             0.665600\n",
            "worst concavity               0.711900\n",
            "worst concave points          0.265400\n",
            "worst symmetry                0.460100\n",
            "worst fractal dimension       0.118900\n",
            "Name: 0, dtype: float64\n",
            "\n",
            "\n",
            "the tree yields Y_hat=0.\n",
            "The true outcome is 0.\n"
          ]
        },
        {
          "output_type": "stream",
          "name": "stderr",
          "text": [
            "/usr/local/lib/python3.7/dist-packages/sklearn/base.py:451: UserWarning: X does not have valid feature names, but DecisionTreeClassifier was fitted with feature names\n",
            "  \"X does not have valid feature names, but\"\n"
          ]
        }
      ]
    },
    {
      "cell_type": "markdown",
      "metadata": {
        "id": "k2J1_UHBDJb4"
      },
      "source": [
        "Now we \"score\" full dataset:"
      ]
    },
    {
      "cell_type": "code",
      "metadata": {
        "id": "lrnkOaSjAPJi"
      },
      "source": [
        "y_train_pred = dtree.predict(X_train_df)"
      ],
      "execution_count": 15,
      "outputs": []
    },
    {
      "cell_type": "code",
      "metadata": {
        "id": "cGrTKHteAYno",
        "colab": {
          "base_uri": "https://localhost:8080/"
        },
        "outputId": "800c594c-e788-405a-cbf8-916bbbfd6d46"
      },
      "source": [
        "print(y_train_pred)"
      ],
      "execution_count": 16,
      "outputs": [
        {
          "output_type": "stream",
          "name": "stdout",
          "text": [
            "[1 1 0 1 0 1 1 0 1 1 0 1 1 0 0 1 0 0 1 0 1 0 1 1 1 1 1 1 0 0 1 1 0 1 1 1 1\n",
            " 0 0 1 0 1 1 1 1 0 1 1 1 0 1 1 0 1 0 1 1 1 0 1 0 1 1 1 1 1 1 1 0 0 1 1 1 1\n",
            " 1 0 1 1 1 0 1 1 1 1 0 0 1 0 0 1 1 1 1 0 1 1 1 1 1 1 0 1 1 0 1 1 1 1 1 0 1\n",
            " 1 1 0 1 1 0 1 1 0 1 0 1 1 1 1 1 1 0 0 0 0 0 1 1 0 1 0 1 1 1 1 0 0 0 0 1 1\n",
            " 0 0 0 1 1 1 1 0 0 1 1 0 1 0 0 1 1 1 1 1 1 1 1 0 1 1 0 0 1 1 1 0 1 0 1 1 0\n",
            " 1 0 1 0 1 1 0 0 1 1 0 1 1 0 0 1 1 1 1 1 1 0 1 1 0 0 1 1 1 0 1 1 1 0 0 1 1\n",
            " 1 1 1 0 0 1 0 0 0 1 0 1 1 0 1 1 0 1 1 1 1 0 1 1 0 1 1 0 0 1 0 1 1 1 0 1 1\n",
            " 1 1 1 0 1 1 1 0 0 0 0 0 1 1 1 0 1 0 1 1 0 1 1 1 1 1 1 1 0 1 1 1 0 1 0 1 1\n",
            " 1 0 0 1 1 1 0 1 1 0 1 1 0 0 0 0 1 1 0 1 1 1 0 1 1 1 1 1 0 1 0 1 0 1 0 0 1\n",
            " 1 0 1 0 1 1 1 0 1 1 0 0 1 0 0 1 1 1 0 0 1 0 1 1 0 1 1 0 1 1 0 1 0 1 0 0 1\n",
            " 1 0 0 1 0 0 1 1 1 0 0 1 1 1 1 0 0 1 1 0 1 1 0 1 1 1 0 1]\n"
          ]
        }
      ]
    },
    {
      "cell_type": "markdown",
      "metadata": {
        "id": "ezQj96hgDaVp"
      },
      "source": [
        "Let us determine the confusion matrix:"
      ]
    },
    {
      "cell_type": "code",
      "metadata": {
        "id": "pWA9zwMhAadG",
        "colab": {
          "base_uri": "https://localhost:8080/",
          "height": 369
        },
        "outputId": "1b31a09b-5c58-45ff-b2ff-d243059c2b0c"
      },
      "source": [
        "class_names = [0, 1]\n",
        "def confusion_matrix(model_object, X_df, y_df):\n",
        "    disp = plot_confusion_matrix(model_object, X_df, y_df)\n",
        "    disp.ax_.set_title(\"Confusion matrix\")\n",
        "    plt.show()\n",
        "    y_hat = model_object.predict(X_df)\n",
        "    accuracy = accuracy_score(y_df, y_hat, normalize=True)\n",
        "    print(f\"The accuracy is {100 * accuracy:0.2f}%.\")\n",
        "confusion_matrix(dtree, X_train_df, y_train_df)"
      ],
      "execution_count": 17,
      "outputs": [
        {
          "output_type": "stream",
          "name": "stderr",
          "text": [
            "/usr/local/lib/python3.7/dist-packages/sklearn/utils/deprecation.py:87: FutureWarning: Function plot_confusion_matrix is deprecated; Function `plot_confusion_matrix` is deprecated in 1.0 and will be removed in 1.2. Use one of the class methods: ConfusionMatrixDisplay.from_predictions or ConfusionMatrixDisplay.from_estimator.\n",
            "  warnings.warn(msg, category=FutureWarning)\n"
          ]
        },
        {
          "output_type": "display_data",
          "data": {
            "text/plain": [
              "<Figure size 432x288 with 2 Axes>"
            ],
            "image/png": "[encoded data removed]"
          },
          "metadata": {
            "needs_background": "light"
          }
        },
        {
          "output_type": "stream",
          "name": "stdout",
          "text": [
            "The accuracy is 100.00%.\n"
          ]
        }
      ]
    },
    {
      "cell_type": "markdown",
      "metadata": {
        "id": "E8uQG8y7DlCw"
      },
      "source": [
        "Next we evaluate the model on the test data:"
      ]
    },
    {
      "cell_type": "code",
      "metadata": {
        "id": "bf7YW21oAagO",
        "colab": {
          "base_uri": "https://localhost:8080/",
          "height": 369
        },
        "outputId": "3dfa3c65-a99c-430e-a9c9-28b167569fa9"
      },
      "source": [
        "confusion_matrix(dtree, X_test_df, y_test_df)"
      ],
      "execution_count": 18,
      "outputs": [
        {
          "output_type": "stream",
          "name": "stderr",
          "text": [
            "/usr/local/lib/python3.7/dist-packages/sklearn/utils/deprecation.py:87: FutureWarning: Function plot_confusion_matrix is deprecated; Function `plot_confusion_matrix` is deprecated in 1.0 and will be removed in 1.2. Use one of the class methods: ConfusionMatrixDisplay.from_predictions or ConfusionMatrixDisplay.from_estimator.\n",
            "  warnings.warn(msg, category=FutureWarning)\n"
          ]
        },
        {
          "output_type": "display_data",
          "data": {
            "text/plain": [
              "<Figure size 432x288 with 2 Axes>"
            ],
            "image/png": "[encoded data removed]"
          },
          "metadata": {
            "needs_background": "light"
          }
        },
        {
          "output_type": "stream",
          "name": "stdout",
          "text": [
            "The accuracy is 95.32%.\n"
          ]
        }
      ]
    },
    {
      "cell_type": "markdown",
      "metadata": {
        "id": "8fRhnksiE59z"
      },
      "source": [
        "Let us also fit a decision tree with restricted depth and evaluate its performance on the train and test set:"
      ]
    },
    {
      "cell_type": "code",
      "metadata": {
        "id": "QrNAAL9REn3D",
        "colab": {
          "base_uri": "https://localhost:8080/",
          "height": 702
        },
        "outputId": "83a53be0-6b4b-44ea-9dda-992884464bb4"
      },
      "source": [
        "dtree = tree.DecisionTreeClassifier(max_depth=3)\n",
        "dtree = dtree.fit(X_train_df, y_train_df)\n",
        "confusion_matrix(dtree, X_train_df, y_train_df)\n",
        "confusion_matrix(dtree, X_test_df, y_test_df)"
      ],
      "execution_count": 19,
      "outputs": [
        {
          "output_type": "stream",
          "name": "stderr",
          "text": [
            "/usr/local/lib/python3.7/dist-packages/sklearn/utils/deprecation.py:87: FutureWarning: Function plot_confusion_matrix is deprecated; Function `plot_confusion_matrix` is deprecated in 1.0 and will be removed in 1.2. Use one of the class methods: ConfusionMatrixDisplay.from_predictions or ConfusionMatrixDisplay.from_estimator.\n",
            "  warnings.warn(msg, category=FutureWarning)\n"
          ]
        },
        {
          "output_type": "display_data",
          "data": {
            "text/plain": [
              "<Figure size 432x288 with 2 Axes>"
            ],
            "image/png": "[encoded data removed]"
          },
          "metadata": {
            "needs_background": "light"
          }
        },
        {
          "output_type": "stream",
          "name": "stdout",
          "text": [
            "The accuracy is 97.99%.\n"
          ]
        },
        {
          "output_type": "stream",
          "name": "stderr",
          "text": [
            "/usr/local/lib/python3.7/dist-packages/sklearn/utils/deprecation.py:87: FutureWarning: Function plot_confusion_matrix is deprecated; Function `plot_confusion_matrix` is deprecated in 1.0 and will be removed in 1.2. Use one of the class methods: ConfusionMatrixDisplay.from_predictions or ConfusionMatrixDisplay.from_estimator.\n",
            "  warnings.warn(msg, category=FutureWarning)\n"
          ]
        },
        {
          "output_type": "display_data",
          "data": {
            "text/plain": [
              "<Figure size 432x288 with 2 Axes>"
            ],
            "image/png": "[encoded data removed]"
          },
          "metadata": {
            "needs_background": "light"
          }
        },
        {
          "output_type": "stream",
          "name": "stdout",
          "text": [
            "The accuracy is 95.32%.\n"
          ]
        }
      ]
    },
    {
      "cell_type": "code",
      "source": [],
      "metadata": {
        "id": "VoZoqzdpsMh1"
      },
      "execution_count": 19,
      "outputs": []
    }
  ]
}