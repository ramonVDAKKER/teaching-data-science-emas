{
  "cells": [
    {
      "cell_type": "markdown",
      "metadata": {
        "id": "view-in-github",
        "colab_type": "text"
      },
      "source": [
        "<a href=\"https://colab.research.google.com/github/ramonVDAKKER/teaching-data-science-emas/blob/main/notebooks/EMAS_intro_data_science_neural_networks.ipynb\" target=\"_parent\"><img src=\"https://colab.research.google.com/assets/colab-badge.svg\" alt=\"Open In Colab\"/></a>"
      ]
    },
    {
      "cell_type": "markdown",
      "metadata": {
        "id": "VJZcmcNCFZtS"
      },
      "source": [
        "# Neural networks - getting started with Keras\n",
        "\n",
        "The notebook contains basic\n",
        "illustrations corresponding to the topic <i>neural networks</i>.\n",
        "\n",
        "# 0. Preparations:"
      ]
    },
    {
      "cell_type": "markdown",
      "metadata": {
        "id": "ORiCm3tyFZtZ"
      },
      "source": [
        "# 0. Imports"
      ]
    },
    {
      "cell_type": "code",
      "execution_count": null,
      "metadata": {
        "id": "eBiLlQ_3FZta"
      },
      "outputs": [],
      "source": [
        "# Import necessary modules\n",
        "import pandas as pd\n",
        "import numpy as np\n",
        "import keras\n",
        "from keras.layers import Dense\n",
        "from keras.models import Sequential\n",
        "#from keras.utils import to_categorical\n",
        "from sklearn.model_selection import train_test_split\n",
        "from sklearn.metrics import accuracy_score, roc_auc_score, precision_recall_curve\n",
        "from sklearn.ensemble import RandomForestClassifier\n",
        "import matplotlib.pyplot as plt\n",
        "%matplotlib inline\n",
        "from keras import regularizers\n",
        "from sklearn.preprocessing import StandardScaler\n",
        "from sklearn.metrics import roc_auc_score"
      ]
    },
    {
      "cell_type": "markdown",
      "metadata": {
        "id": "Qe7oovbwFZtb"
      },
      "source": [
        "# 1. Load data"
      ]
    },
    {
      "cell_type": "code",
      "execution_count": null,
      "metadata": {
        "id": "WQQ3VffxFZtb"
      },
      "outputs": [],
      "source": [
        "df = pd.read_csv(\"https://raw.githubusercontent.com/nsethi31/Kaggle-Data-Credit-Card-Fraud-Detection/master/creditcard.csv\")"
      ]
    },
    {
      "cell_type": "markdown",
      "metadata": {
        "id": "9lFfmHvhFZtc"
      },
      "source": [
        "# 2. Construct train and test set"
      ]
    },
    {
      "cell_type": "code",
      "execution_count": null,
      "metadata": {
        "id": "VJIjH0xuFZtc"
      },
      "outputs": [],
      "source": [
        "seed = 123\n",
        "X_train, X_test, y_train, y_test = train_test_split(df.drop(columns=[\"Class\"]), df[\"Class\"], test_size=0.3, random_state=seed)\n",
        "p = X_train.shape[1] # no. of features\n",
        "print(\"data_train shape: {}\".format(X_train.shape))\n",
        "print(\"data_test shape: {}\".format(X_test.shape))"
      ]
    },
    {
      "cell_type": "markdown",
      "metadata": {
        "id": "qBvXZ0T2FZtd"
      },
      "source": [
        "# 3. Random forest as benchmark"
      ]
    },
    {
      "cell_type": "code",
      "execution_count": null,
      "metadata": {
        "id": "I3NCPIl4FZtd"
      },
      "outputs": [],
      "source": [
        "rf = RandomForestClassifier(n_estimators=100, max_depth=10, random_state=123)"
      ]
    },
    {
      "cell_type": "code",
      "execution_count": null,
      "metadata": {
        "id": "_Iu8vfJmFZtd"
      },
      "outputs": [],
      "source": [
        "rf.fit(X_train, y_train)"
      ]
    },
    {
      "cell_type": "code",
      "execution_count": null,
      "metadata": {
        "id": "xoBPY4QGFZte"
      },
      "outputs": [],
      "source": [
        "rf_scores_test = rf.predict_proba(X_test)[:, 1]"
      ]
    },
    {
      "cell_type": "code",
      "execution_count": null,
      "metadata": {
        "id": "oVFhqpmEFZte"
      },
      "outputs": [],
      "source": [
        "def draw_precision_recall(scores, y):\n",
        "    precision, recall, thresholds = precision_recall_curve(y, scores)\n",
        "    plt.fill_between(recall, precision, alpha=0.2, color=\"b\")\n",
        "    plt.xlabel(\"Recall\")\n",
        "    plt.ylabel(\"Precision\")\n",
        "    plt.ylim([0.0, 1.05])\n",
        "    plt.xlim([0.0, 1.0])\n",
        "    plt.title(\"Precision-Recall curve\")\n",
        "    plt.show()\n",
        "draw_precision_recall(rf_scores_test, y_test)"
      ]
    },
    {
      "cell_type": "code",
      "execution_count": null,
      "metadata": {
        "id": "UVIlAW3DFZte"
      },
      "outputs": [],
      "source": [
        "# AUC:\n",
        "roc_auc_score(y_test, rf_scores_test)"
      ]
    },
    {
      "cell_type": "markdown",
      "metadata": {
        "id": "mk7BKe6RFZtf"
      },
      "source": [
        "# 4. Neural network (1)"
      ]
    },
    {
      "cell_type": "markdown",
      "metadata": {
        "id": "ArtXJJegFZtf"
      },
      "source": [
        "Let us try to fit a neural network."
      ]
    },
    {
      "cell_type": "code",
      "execution_count": null,
      "metadata": {
        "id": "kAMAQQcHFZtf"
      },
      "outputs": [],
      "source": [
        "# initialize NN\n",
        "nn = Sequential()\n",
        "# add first layer with xxx nodes and using ReLu as activation function\n",
        "nn.add(Dense(10, activation='relu', input_shape=(p,), kernel_initializer='uniform'))\n",
        "# add second layer with xxx nodes and using ReLu as activation function\n",
        "nn.add(Dense(10, activation='relu', kernel_initializer='uniform'))\n",
        "# add output layer (binary target)\n",
        "nn.add(Dense(1, activation='sigmoid'))"
      ]
    },
    {
      "cell_type": "code",
      "execution_count": null,
      "metadata": {
        "id": "jrcKrmuNFZtf"
      },
      "outputs": [],
      "source": [
        "# Compile the model\n",
        "nn.compile(optimizer='adam', loss='binary_crossentropy', metrics=['accuracy'])\n",
        "# Verify that model contains information from compiling\n",
        "print(\"Loss function: \" + nn.loss)"
      ]
    },
    {
      "cell_type": "code",
      "execution_count": null,
      "metadata": {
        "id": "L_dXnAFmFZtf"
      },
      "outputs": [],
      "source": [
        "X_train = X_train.astype('float64')\n",
        "X_test = X_test.astype('float64')\n",
        "\n",
        "sc = StandardScaler()\n",
        "X_train_sc = sc.fit_transform(X_train)\n",
        "X_test_sc = sc.transform(X_test)"
      ]
    },
    {
      "cell_type": "code",
      "execution_count": null,
      "metadata": {
        "id": "OVuKuNmrFZtg"
      },
      "outputs": [],
      "source": [
        "# Fit the model\n",
        "nn.fit(X_train_sc, y_train,  epochs=25, validation_split=0.3)"
      ]
    },
    {
      "cell_type": "code",
      "execution_count": null,
      "metadata": {
        "id": "Q2CPz5z7FZtg"
      },
      "outputs": [],
      "source": [
        "# Calculate predictions: predictions\n",
        "nn_scores_test = nn.predict(X_test_sc)"
      ]
    },
    {
      "cell_type": "code",
      "execution_count": null,
      "metadata": {
        "id": "cbBl6JlTFZtg"
      },
      "outputs": [],
      "source": [
        "draw_precision_recall(nn_scores_test, y_test)"
      ]
    },
    {
      "cell_type": "code",
      "execution_count": null,
      "metadata": {
        "id": "3zQAm75_FZtg"
      },
      "outputs": [],
      "source": [
        "roc_auc_score(y_test, nn_scores_test)"
      ]
    }
  ],
  "metadata": {
    "colab": {
      "provenance": [],
      "include_colab_link": true
    },
    "kernelspec": {
      "display_name": "Python 3",
      "language": "python",
      "name": "python3"
    },
    "language_info": {
      "codemirror_mode": {
        "name": "ipython",
        "version": 3
      },
      "file_extension": ".py",
      "mimetype": "text/x-python",
      "name": "python",
      "nbconvert_exporter": "python",
      "pygments_lexer": "ipython3",
      "version": "3.8.5"
    }
  },
  "nbformat": 4,
  "nbformat_minor": 0
}