{
  "cells": [
    {
      "cell_type": "markdown",
      "metadata": {
        "id": "view-in-github",
        "colab_type": "text"
      },
      "source": [
        "<a href=\"https://colab.research.google.com/github/ramonVDAKKER/teaching-data-science-emas/blob/develop/notebooks/demo_clustering_with_k_means.ipynb\" target=\"_parent\"><img src=\"https://colab.research.google.com/assets/colab-badge.svg\" alt=\"Open In Colab\"/></a>"
      ]
    },
    {
      "cell_type": "markdown",
      "id": "prospective-pathology",
      "metadata": {
        "id": "prospective-pathology"
      },
      "source": [
        "# Cluster Analysis | $k$-means"
      ]
    },
    {
      "cell_type": "markdown",
      "id": "introductory-cleaners",
      "metadata": {
        "id": "introductory-cleaners"
      },
      "source": [
        "### Import Packages"
      ]
    },
    {
      "cell_type": "code",
      "execution_count": null,
      "id": "considerable-payroll",
      "metadata": {
        "id": "considerable-payroll"
      },
      "outputs": [],
      "source": [
        "import pandas as pd\n",
        "import matplotlib.pyplot as plt\n",
        "from sklearn.cluster import KMeans\n",
        "plt.show()"
      ]
    },
    {
      "cell_type": "markdown",
      "id": "blank-aerospace",
      "metadata": {
        "id": "blank-aerospace"
      },
      "source": [
        "### Load dataset\n",
        "\n",
        "House Prices; source=https://www.kaggle.com/c/house-prices-advanced-regression-techniques/data?select=train.csv"
      ]
    },
    {
      "cell_type": "code",
      "execution_count": null,
      "id": "portuguese-mistake",
      "metadata": {
        "id": "portuguese-mistake"
      },
      "outputs": [],
      "source": [
        "data_url = \"https://raw.githubusercontent.com/ankita1112/House-Prices-Advanced-Regression/master/train.csv\"\n",
        "data_df = pd.read_csv(data_url)\n",
        "pd.options.display.max_columns = 100\n",
        "data_df.head(5)"
      ]
    },
    {
      "cell_type": "markdown",
      "id": "intermediate-sweden",
      "metadata": {
        "id": "intermediate-sweden"
      },
      "source": [
        "# k-means"
      ]
    },
    {
      "cell_type": "markdown",
      "id": "outside-invite",
      "metadata": {
        "id": "outside-invite"
      },
      "source": [
        "Consider a scatter plot of two variables. Question arises whether there are <i>clusters</i> of observations.  The rough, general idea is to find groups of observations, clusters, such that the 'variation' within the cluster is small and the 'variation' between clusters is large."
      ]
    },
    {
      "cell_type": "code",
      "execution_count": null,
      "id": "comic-mission",
      "metadata": {
        "id": "comic-mission"
      },
      "outputs": [],
      "source": [
        "plt.scatter(data_df[\"1stFlrSF\"], data_df[\"2ndFlrSF\"])"
      ]
    },
    {
      "cell_type": "markdown",
      "id": "foreign-marine",
      "metadata": {
        "id": "foreign-marine"
      },
      "source": [
        "$k$-means is a specific method to obtain clusters. Applying the algorithm requires a choice for the number of clusters $k$."
      ]
    },
    {
      "cell_type": "code",
      "execution_count": null,
      "id": "hollywood-native",
      "metadata": {
        "id": "hollywood-native"
      },
      "outputs": [],
      "source": [
        "obj_kmeans = KMeans(n_clusters=4).fit(data_df[[\"1stFlrSF\", \"2ndFlrSF\"]])"
      ]
    },
    {
      "cell_type": "markdown",
      "id": "fancy-decline",
      "metadata": {
        "id": "fancy-decline"
      },
      "source": [
        "As output we obtain the <i>cluster centroids</i>, i.e. the means of the observations in each cluster, which are depicted in red in the figure below."
      ]
    },
    {
      "cell_type": "code",
      "execution_count": null,
      "id": "committed-bench",
      "metadata": {
        "id": "committed-bench"
      },
      "outputs": [],
      "source": [
        "plt.scatter(data_df[\"1stFlrSF\"], data_df[\"2ndFlrSF\"])\n",
        "for row in obj_kmeans.cluster_centers_:\n",
        "    plt.scatter(row[0], row[1], s=50, c=\"r\", marker=\"s\")"
      ]
    },
    {
      "cell_type": "markdown",
      "id": "under-narrow",
      "metadata": {
        "id": "under-narrow"
      },
      "source": [
        "All the observations are assigned to the 'closest' centroid. The Euclidean distance is used to measure the distance between two observations (i.e. the length of the line between the observations). "
      ]
    },
    {
      "cell_type": "code",
      "execution_count": null,
      "id": "atlantic-cologne",
      "metadata": {
        "id": "atlantic-cologne"
      },
      "outputs": [],
      "source": [
        "obj_kmeans.labels_"
      ]
    },
    {
      "cell_type": "markdown",
      "id": "productive-greenhouse",
      "metadata": {
        "id": "productive-greenhouse"
      },
      "source": [
        "Let us visualize these labels in the scatter plot."
      ]
    },
    {
      "cell_type": "code",
      "execution_count": null,
      "id": "impressed-lover",
      "metadata": {
        "id": "impressed-lover"
      },
      "outputs": [],
      "source": [
        "for index, row in data_df[[\"1stFlrSF\", \"2ndFlrSF\"]].iterrows():\n",
        "    if obj_kmeans.labels_[index] == 1:\n",
        "        plt.scatter(row[0], row[1], c=\"r\")\n",
        "    elif obj_kmeans.labels_[index] == 2:\n",
        "        plt.scatter(row[0], row[1], c=\"b\")\n",
        "    elif obj_kmeans.labels_[index] == 3:\n",
        "        plt.scatter(row[0], row[1], c=\"c\")\n",
        "    else:\n",
        "        plt.scatter(row[0], row[1], c=\"g\")"
      ]
    },
    {
      "cell_type": "markdown",
      "id": "naval-tablet",
      "metadata": {
        "id": "naval-tablet"
      },
      "source": [
        "As the $k$-means algorithm is not guaranteed to converge and due to a random initialization, the results of $k$-means, on a fixed dataset, are not deterministic."
      ]
    },
    {
      "cell_type": "code",
      "execution_count": null,
      "id": "medium-powell",
      "metadata": {
        "id": "medium-powell"
      },
      "outputs": [],
      "source": [
        "print(\"Cluster means:\")\n",
        "print(obj_kmeans.cluster_centers_)\n",
        "obj_kmeans2 = KMeans(n_clusters=4).fit(data_df[[\"1stFlrSF\", \"2ndFlrSF\"]])\n",
        "print(\"\\nCluster means after retraining k-means on same dataset:\")\n",
        "print(obj_kmeans2.cluster_centers_)"
      ]
    },
    {
      "cell_type": "markdown",
      "id": "featured-houston",
      "metadata": {
        "id": "featured-houston"
      },
      "source": [
        "But how to select the number of clusters $k$? A popular technique is the elbow method: determine the 'fit' of $k$-means as function of $k$ and select $k$ such that the curve bends at $k$."
      ]
    },
    {
      "cell_type": "code",
      "execution_count": null,
      "id": "south-cloud",
      "metadata": {
        "id": "south-cloud"
      },
      "outputs": [],
      "source": [
        "error = []\n",
        "K = 20 # max number of clusters to be considered\n",
        "for k in range(1, K):\n",
        "    obj_kmeans = KMeans(n_clusters=k).fit(data_df[[\"1stFlrSF\", \"2ndFlrSF\"]])\n",
        "    error.append(obj_kmeans.inertia_)\n",
        "plt.plot(range(1, K), error, marker=\"*\")\n",
        "plt.xlabel(\"Number of clusters\")\n",
        "plt.ylabel(\"Error\")"
      ]
    },
    {
      "cell_type": "markdown",
      "id": "convinced-start",
      "metadata": {
        "id": "convinced-start"
      },
      "source": [
        "Although clustering can already be useful for 2-dimensional data, it becomes extremely useful in higher dimensions. Interpretation of the results becomes more difficult. However, inspecting the centroids is a good first step."
      ]
    },
    {
      "cell_type": "code",
      "execution_count": null,
      "id": "liquid-insured",
      "metadata": {
        "id": "liquid-insured"
      },
      "outputs": [],
      "source": [
        "names_cols = [\"1stFlrSF\", \"2ndFlrSF\", \"TotalBsmtSF\", \"SalePrice\"]\n",
        "obj_kmeans = KMeans(n_clusters=4).fit(data_df[names_cols])\n",
        "pd.DataFrame(obj_kmeans.cluster_centers_, columns=names_cols)"
      ]
    },
    {
      "cell_type": "code",
      "source": [],
      "metadata": {
        "id": "3YgpuM29fhXh"
      },
      "id": "3YgpuM29fhXh",
      "execution_count": null,
      "outputs": []
    }
  ],
  "metadata": {
    "kernelspec": {
      "display_name": "Python 3",
      "language": "python",
      "name": "python3"
    },
    "language_info": {
      "codemirror_mode": {
        "name": "ipython",
        "version": 3
      },
      "file_extension": ".py",
      "mimetype": "text/x-python",
      "name": "python",
      "nbconvert_exporter": "python",
      "pygments_lexer": "ipython3",
      "version": "3.6.12"
    },
    "colab": {
      "provenance": [],
      "include_colab_link": true
    }
  },
  "nbformat": 4,
  "nbformat_minor": 5
}